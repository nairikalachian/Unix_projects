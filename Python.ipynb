{
 "cells": [
  {
   "cell_type": "code",
   "execution_count": null,
   "id": "b6f58d62-e4b4-47f3-aa2b-428edd4618a8",
   "metadata": {},
   "outputs": [],
   "source": [
    "import this"
   ]
  },
  {
   "cell_type": "code",
   "execution_count": 8,
   "id": "c153138d-2b82-4b5d-aa8d-e18514f0c27f",
   "metadata": {},
   "outputs": [
    {
     "name": "stdout",
     "output_type": "stream",
     "text": [
      "Hello World!\n"
     ]
    }
   ],
   "source": [
    "# String\n",
    "half_1 = \"Hello\"\n",
    "half_2 = \" World!\"\n",
    "msg = half_1 + half_2\n",
    "print(msg)"
   ]
  },
  {
   "cell_type": "code",
   "execution_count": 35,
   "id": "2f847562-cbab-4b8b-bb46-b26127d5b3c0",
   "metadata": {},
   "outputs": [
    {
     "name": "stdin",
     "output_type": "stream",
     "text": [
      "Первое число -  12\n",
      "Второе число -  24\n",
      "Третье число -  35\n"
     ]
    },
    {
     "name": "stdout",
     "output_type": "stream",
     "text": [
      "Среднее арифметическое -  23.666666666666668\n"
     ]
    }
   ],
   "source": [
    "# Integer + Float\n",
    "num_1, num_2, num_3 = int(input(\"Первое число - \")), int(input(\"Второе число - \")), int(input(\"Третье число - \"))\n",
    "mean = (num_1 + num_2 + num_3) / 3\n",
    "print(\"Среднее арифметическое - \", mean)"
   ]
  },
  {
   "cell_type": "code",
   "execution_count": 32,
   "id": "afe8c561-9a60-4929-888f-c3a63982d361",
   "metadata": {},
   "outputs": [
    {
     "name": "stdin",
     "output_type": "stream",
     "text": [
      "Первое число 100\n",
      "Второе число 25.6\n"
     ]
    },
    {
     "name": "stdout",
     "output_type": "stream",
     "text": [
      "Результат деления -  3.90625\n"
     ]
    }
   ],
   "source": [
    "#Float\n",
    "x_1 = float(input(\"Первое число\"))\n",
    "x_2 = float(input(\"Второе число\"))\n",
    "print(\"Результат деления - \", x_1 / x_2)"
   ]
  },
  {
   "cell_type": "code",
   "execution_count": 27,
   "id": "2a303c94-df51-4899-ad3d-d7aba26d6db9",
   "metadata": {},
   "outputs": [
    {
     "name": "stdout",
     "output_type": "stream",
     "text": [
      "Целое число? -  True\n",
      "Целое число? -  False\n",
      "Целое число? -  False\n"
     ]
    }
   ],
   "source": [
    "# Boolean\n",
    "inp_1 = 54\n",
    "inp_2 = 23.3\n",
    "inp_3 = \"Z\"\n",
    "print(\"Целое число? - \", type(inp_1) == int)\n",
    "print(\"Целое число? - \", type(inp_2) == int)\n",
    "print(\"Целое число? - \", type(inp_3) == int)"
   ]
  },
  {
   "cell_type": "code",
   "execution_count": 36,
   "id": "21f89700-4f88-4174-bbd2-a0bbf46576a0",
   "metadata": {},
   "outputs": [
    {
     "name": "stdin",
     "output_type": "stream",
     "text": [
      "Введите город -  Санкт-Петербург\n",
      "Введите улицу -  улица Нечистых Сил\n",
      "Введите номер дома -  дом 13\n"
     ]
    },
    {
     "name": "stdout",
     "output_type": "stream",
     "text": [
      "Домашний адрес -  Санкт-Петербург, улица Нечистых Сил, дом 13\n"
     ]
    }
   ],
   "source": [
    "# Str\n",
    "city, street, house_n = input(\"Введите город - \"), input(\"Введите улицу - \"), input(\"Введите номер дома - \")\n",
    "adress = city + \", \" + street + \", \" + house_n\n",
    "print(\"Домашний адрес - \", adress)"
   ]
  }
 ],
 "metadata": {
  "kernelspec": {
   "display_name": "Python 3 (ipykernel)",
   "language": "python",
   "name": "python3"
  },
  "language_info": {
   "codemirror_mode": {
    "name": "ipython",
    "version": 3
   },
   "file_extension": ".py",
   "mimetype": "text/x-python",
   "name": "python",
   "nbconvert_exporter": "python",
   "pygments_lexer": "ipython3",
   "version": "3.12.7"
  }
 },
 "nbformat": 4,
 "nbformat_minor": 5
}
